{
 "cells": [
  {
   "cell_type": "code",
   "execution_count": 6,
   "id": "2d4e1d4a",
   "metadata": {},
   "outputs": [],
   "source": [
    "import requests\n",
    "\n",
    "URL = \"https://017f01129768.ngrok-free.app/generate\" \n",
    "headers = {\"Authorization\": \"Bearer secret123\"}\n",
    "payload = {\n",
    "    \"prompt\": \"who is CR7?\",\n",
    "    \"max_length\": 300\n",
    "}\n",
    "\n",
    "res = requests.post(URL, headers=headers, json=payload)\n",
    "answer = res.json()[\"response\"]"
   ]
  },
  {
   "cell_type": "code",
   "execution_count": 7,
   "id": "d325f997",
   "metadata": {},
   "outputs": [
    {
     "name": "stdout",
     "output_type": "stream",
     "text": [
      "who is CR7? Cristiano Ronaldo dos Santos Aveiro Ronaldo Jr., GOIH, commonly known as Cristiano Ronaldo, is a Portuguese professional footballer who plays as a forward for Saudi Arabian club Al Nassr and captains the Portugal national team.He is often considered the best player in the world and has repeatedly been ranked first or second best player in the world in various publications.\n",
      "\n",
      "Ronaldo holds several records and accolades throughout his career. Here are some highlights:\n",
      "\n",
      "1. **Club Career:**\n",
      "   - He played for Manchester United from 2003 to 2009, winning three Premier League titles and the UEFA Champions League in 2008.\n",
      "   - From 2009 to 2018, he played for Real Madrid, winning two La Liga titles, two Copa del Rey titles, and four UEFA Champions League titles.\n",
      "   - Since 2018, he has played for Juventus, winning two Serie A titles and the Coppa Italia in his first season.\n",
      "   - Currently, he plays for Al Nassr in Saudi Arabia.\n",
      "\n",
      "2. **International Career:**\n",
      "   - Ronaldo captains the Portugal national team. He led them to victory in the UEFA Euro 2016 and UEFA Nations League in 2019.\n",
      "   - He is Portugal's most capped player and all-time top scorer.\n",
      "\n",
      "3. **Individual Awards:**\n",
      "   - Ronaldo has won five Ballon d'Or awards (2008, 2013\n"
     ]
    }
   ],
   "source": [
    "print(answer)"
   ]
  },
  {
   "cell_type": "code",
   "execution_count": null,
   "id": "c899a3bd",
   "metadata": {},
   "outputs": [],
   "source": []
  },
  {
   "cell_type": "code",
   "execution_count": null,
   "id": "96ea30cc",
   "metadata": {},
   "outputs": [],
   "source": []
  }
 ],
 "metadata": {
  "kernelspec": {
   "display_name": "Python 3 (ipykernel)",
   "language": "python",
   "name": "python3"
  },
  "language_info": {
   "codemirror_mode": {
    "name": "ipython",
    "version": 3
   },
   "file_extension": ".py",
   "mimetype": "text/x-python",
   "name": "python",
   "nbconvert_exporter": "python",
   "pygments_lexer": "ipython3",
   "version": "3.11.5"
  }
 },
 "nbformat": 4,
 "nbformat_minor": 5
}
